{
 "cells": [
  {
   "cell_type": "code",
   "execution_count": 777,
   "id": "fc719a11",
   "metadata": {},
   "outputs": [],
   "source": [
    "import pandas as pd\n",
    "import numpy as np\n",
    "import matplotlib.pyplot as plt\n",
    "import seaborn as sns\n",
    "%matplotlib inline\n",
    "from plotly import __version__\n",
    "from plotly.offline import download_plotlyjs, init_notebook_mode, plot, iplot\n",
    "from sklearn.datasets import load_boston\n",
    "from xgboost import XGBClassifier\n",
    "from statsmodels.formula.api import ols\n",
    "import statsmodels.api as sm\n",
    "import scipy.stats as stats\n",
    "import pickle\n",
    "from sklearn.model_selection import train_test_split\n",
    "from sklearn.datasets import load_iris\n",
    "from sklearn.ensemble import RandomForestClassifier\n",
    "from imblearn.over_sampling import RandomOverSampler\n",
    "from imblearn.under_sampling import RandomUnderSampler\n",
    "from imblearn.over_sampling import SMOTE\n",
    "\n",
    "from sklearn.utils import resample\n",
    "from sklearn.preprocessing import OneHotEncoder\n",
    "from sklearn.preprocessing import OrdinalEncoder\n",
    "from sklearn.preprocessing import StandardScaler\n",
    "from sklearn.preprocessing import MinMaxScaler\n",
    "from sklearn.metrics import r2_score\n",
    "from sklearn import preprocessing\n",
    "from sklearn.model_selection import train_test_split\n",
    "from sklearn import metrics\n",
    "from sklearn import linear_model\n",
    "from sklearn.linear_model import LinearRegression\n",
    "from sklearn import tree\n",
    "from sklearn.ensemble import RandomForestRegressor\n",
    "from sklearn.metrics import f1_score\n",
    "from sklearn.model_selection import GridSearchCV,RandomizedSearchCV\n",
    "from catboost import CatBoostRegressor\n",
    "from sklearn.model_selection import learning_curve\n",
    "import warnings\n",
    "warnings.filterwarnings('ignore')"
   ]
  },
  {
   "cell_type": "code",
   "execution_count": 778,
   "id": "a4c14811",
   "metadata": {},
   "outputs": [],
   "source": [
    "df = pd.read_csv('FTTH-DataSet.xlsx - FTTH.csv')"
   ]
  },
  {
   "cell_type": "code",
   "execution_count": 779,
   "id": "3f19db79",
   "metadata": {},
   "outputs": [
    {
     "data": {
      "text/plain": [
       "ID                                    0\n",
       "GOVERNORATE                         323\n",
       "Customer with orange_MONTHS           0\n",
       "CUSTOMER_AGE_MONTHS                   0\n",
       "CUSTOMER_GENDER                      54\n",
       "COMMITMENT                            0\n",
       "COMMITMENT_FG                         0\n",
       "OF_SPEED                              0\n",
       "OF_PREV_SPEED                     74714\n",
       "MIGRATION_FLAG                        0\n",
       "LAST_LINK_QUALITY                    28\n",
       "LAST_LINK_STATUS                     28\n",
       "LAST_POWER_VALIDATION                28\n",
       "LAST_LINK_PRIORITY                   28\n",
       "Disconnection_TOTAL_MAX_day         625\n",
       "Disconnection_TOTAL_MIN_day         625\n",
       "Disconnection_TOTAL_SUM_Month       625\n",
       "Disconnection_TOTAL_MEAN_Month      625\n",
       "GB_TOTAL_CONSUMPTION_Month1         155\n",
       "GB_TOTAL_CONSUMPTION_Month2         367\n",
       "GB_TOTAL_CONSUMPTION_Month3        4242\n",
       "TARGET                                0\n",
       "dtype: int64"
      ]
     },
     "execution_count": 779,
     "metadata": {},
     "output_type": "execute_result"
    }
   ],
   "source": [
    "df.isnull().sum()"
   ]
  },
  {
   "cell_type": "code",
   "execution_count": 780,
   "id": "f24cf5d1",
   "metadata": {},
   "outputs": [],
   "source": [
    "df['median_GB'] = df[['GB_TOTAL_CONSUMPTION_Month1', 'GB_TOTAL_CONSUMPTION_Month2', 'GB_TOTAL_CONSUMPTION_Month3']].median(axis=1)\n",
    "df['CUSTOMER_AGE_YEARS'] = df['CUSTOMER_AGE_MONTHS'] / 12\n",
    "pd.DataFrame({'GOVERNORATE': ['EAST AMMAN', 'WEST AMMAN', 'Balqa', 'Zarqa', 'Aqaba','Irbid','Jarash','Karak','Madaba','Ma\\'an']})\n",
    "\n",
    "# replace values with \"Others\"\n",
    "df.loc[df['GOVERNORATE'].isin(['Balqa', 'Zarqa', 'Aqaba','Irbid','Jarash','Karak','Madaba','Ma\\'an']), 'GOVERNORATE'] = 'Others'\n"
   ]
  },
  {
   "cell_type": "code",
   "execution_count": 781,
   "id": "ae545d7a",
   "metadata": {},
   "outputs": [],
   "source": [
    "df = df.drop(['ID', 'OF_PREV_SPEED','CUSTOMER_AGE_MONTHS','GB_TOTAL_CONSUMPTION_Month1','GB_TOTAL_CONSUMPTION_Month2','GB_TOTAL_CONSUMPTION_Month3','LAST_LINK_QUALITY', 'LAST_LINK_STATUS', 'LAST_POWER_VALIDATION', 'LAST_LINK_PRIORITY', 'Disconnection_TOTAL_MAX_day', 'Disconnection_TOTAL_MIN_day', 'Disconnection_TOTAL_SUM_Month', 'Disconnection_TOTAL_MEAN_Month'], axis=1)"
   ]
  },
  {
   "cell_type": "code",
   "execution_count": 782,
   "id": "729985a1",
   "metadata": {},
   "outputs": [
    {
     "data": {
      "text/html": [
       "<div>\n",
       "<style scoped>\n",
       "    .dataframe tbody tr th:only-of-type {\n",
       "        vertical-align: middle;\n",
       "    }\n",
       "\n",
       "    .dataframe tbody tr th {\n",
       "        vertical-align: top;\n",
       "    }\n",
       "\n",
       "    .dataframe thead th {\n",
       "        text-align: right;\n",
       "    }\n",
       "</style>\n",
       "<table border=\"1\" class=\"dataframe\">\n",
       "  <thead>\n",
       "    <tr style=\"text-align: right;\">\n",
       "      <th></th>\n",
       "      <th>GOVERNORATE</th>\n",
       "      <th>Customer with orange_MONTHS</th>\n",
       "      <th>CUSTOMER_GENDER</th>\n",
       "      <th>COMMITMENT</th>\n",
       "      <th>COMMITMENT_FG</th>\n",
       "      <th>OF_SPEED</th>\n",
       "      <th>MIGRATION_FLAG</th>\n",
       "      <th>TARGET</th>\n",
       "      <th>median_GB</th>\n",
       "      <th>CUSTOMER_AGE_YEARS</th>\n",
       "    </tr>\n",
       "  </thead>\n",
       "  <tbody>\n",
       "    <tr>\n",
       "      <th>0</th>\n",
       "      <td>West Amman</td>\n",
       "      <td>49</td>\n",
       "      <td>M</td>\n",
       "      <td>24</td>\n",
       "      <td>1</td>\n",
       "      <td>200</td>\n",
       "      <td>y</td>\n",
       "      <td>0</td>\n",
       "      <td>562.0</td>\n",
       "      <td>47.333333</td>\n",
       "    </tr>\n",
       "    <tr>\n",
       "      <th>1</th>\n",
       "      <td>West Amman</td>\n",
       "      <td>45</td>\n",
       "      <td>M</td>\n",
       "      <td>24</td>\n",
       "      <td>0</td>\n",
       "      <td>100</td>\n",
       "      <td>y</td>\n",
       "      <td>0</td>\n",
       "      <td>160.0</td>\n",
       "      <td>61.750000</td>\n",
       "    </tr>\n",
       "    <tr>\n",
       "      <th>2</th>\n",
       "      <td>West Amman</td>\n",
       "      <td>45</td>\n",
       "      <td>M</td>\n",
       "      <td>24</td>\n",
       "      <td>1</td>\n",
       "      <td>200</td>\n",
       "      <td>y</td>\n",
       "      <td>0</td>\n",
       "      <td>299.0</td>\n",
       "      <td>44.250000</td>\n",
       "    </tr>\n",
       "    <tr>\n",
       "      <th>3</th>\n",
       "      <td>Others</td>\n",
       "      <td>44</td>\n",
       "      <td>M</td>\n",
       "      <td>24</td>\n",
       "      <td>0</td>\n",
       "      <td>200</td>\n",
       "      <td>y</td>\n",
       "      <td>0</td>\n",
       "      <td>569.0</td>\n",
       "      <td>53.833333</td>\n",
       "    </tr>\n",
       "    <tr>\n",
       "      <th>4</th>\n",
       "      <td>West Amman</td>\n",
       "      <td>42</td>\n",
       "      <td>M</td>\n",
       "      <td>12</td>\n",
       "      <td>1</td>\n",
       "      <td>400</td>\n",
       "      <td>y</td>\n",
       "      <td>0</td>\n",
       "      <td>891.0</td>\n",
       "      <td>26.000000</td>\n",
       "    </tr>\n",
       "    <tr>\n",
       "      <th>...</th>\n",
       "      <td>...</td>\n",
       "      <td>...</td>\n",
       "      <td>...</td>\n",
       "      <td>...</td>\n",
       "      <td>...</td>\n",
       "      <td>...</td>\n",
       "      <td>...</td>\n",
       "      <td>...</td>\n",
       "      <td>...</td>\n",
       "      <td>...</td>\n",
       "    </tr>\n",
       "    <tr>\n",
       "      <th>94473</th>\n",
       "      <td>Others</td>\n",
       "      <td>1</td>\n",
       "      <td>M</td>\n",
       "      <td>12</td>\n",
       "      <td>1</td>\n",
       "      <td>200</td>\n",
       "      <td>y</td>\n",
       "      <td>0</td>\n",
       "      <td>315.0</td>\n",
       "      <td>20.083333</td>\n",
       "    </tr>\n",
       "    <tr>\n",
       "      <th>94474</th>\n",
       "      <td>East Amman</td>\n",
       "      <td>18</td>\n",
       "      <td>M</td>\n",
       "      <td>24</td>\n",
       "      <td>1</td>\n",
       "      <td>200</td>\n",
       "      <td>n</td>\n",
       "      <td>0</td>\n",
       "      <td>0.0</td>\n",
       "      <td>42.166667</td>\n",
       "    </tr>\n",
       "    <tr>\n",
       "      <th>94475</th>\n",
       "      <td>West Amman</td>\n",
       "      <td>13</td>\n",
       "      <td>F</td>\n",
       "      <td>12</td>\n",
       "      <td>1</td>\n",
       "      <td>400</td>\n",
       "      <td>y</td>\n",
       "      <td>0</td>\n",
       "      <td>0.0</td>\n",
       "      <td>71.750000</td>\n",
       "    </tr>\n",
       "    <tr>\n",
       "      <th>94476</th>\n",
       "      <td>West Amman</td>\n",
       "      <td>9</td>\n",
       "      <td>M</td>\n",
       "      <td>24</td>\n",
       "      <td>1</td>\n",
       "      <td>200</td>\n",
       "      <td>n</td>\n",
       "      <td>0</td>\n",
       "      <td>NaN</td>\n",
       "      <td>27.833333</td>\n",
       "    </tr>\n",
       "    <tr>\n",
       "      <th>94477</th>\n",
       "      <td>East Amman</td>\n",
       "      <td>21</td>\n",
       "      <td>F</td>\n",
       "      <td>24</td>\n",
       "      <td>1</td>\n",
       "      <td>60</td>\n",
       "      <td>n</td>\n",
       "      <td>0</td>\n",
       "      <td>0.0</td>\n",
       "      <td>56.083333</td>\n",
       "    </tr>\n",
       "  </tbody>\n",
       "</table>\n",
       "<p>94478 rows × 10 columns</p>\n",
       "</div>"
      ],
      "text/plain": [
       "      GOVERNORATE  Customer with orange_MONTHS CUSTOMER_GENDER  COMMITMENT  \\\n",
       "0      West Amman                           49               M          24   \n",
       "1      West Amman                           45               M          24   \n",
       "2      West Amman                           45               M          24   \n",
       "3          Others                           44               M          24   \n",
       "4      West Amman                           42               M          12   \n",
       "...           ...                          ...             ...         ...   \n",
       "94473      Others                            1               M          12   \n",
       "94474  East Amman                           18               M          24   \n",
       "94475  West Amman                           13               F          12   \n",
       "94476  West Amman                            9               M          24   \n",
       "94477  East Amman                           21               F          24   \n",
       "\n",
       "       COMMITMENT_FG  OF_SPEED MIGRATION_FLAG  TARGET  median_GB  \\\n",
       "0                  1       200              y       0      562.0   \n",
       "1                  0       100              y       0      160.0   \n",
       "2                  1       200              y       0      299.0   \n",
       "3                  0       200              y       0      569.0   \n",
       "4                  1       400              y       0      891.0   \n",
       "...              ...       ...            ...     ...        ...   \n",
       "94473              1       200              y       0      315.0   \n",
       "94474              1       200              n       0        0.0   \n",
       "94475              1       400              y       0        0.0   \n",
       "94476              1       200              n       0        NaN   \n",
       "94477              1        60              n       0        0.0   \n",
       "\n",
       "       CUSTOMER_AGE_YEARS  \n",
       "0               47.333333  \n",
       "1               61.750000  \n",
       "2               44.250000  \n",
       "3               53.833333  \n",
       "4               26.000000  \n",
       "...                   ...  \n",
       "94473           20.083333  \n",
       "94474           42.166667  \n",
       "94475           71.750000  \n",
       "94476           27.833333  \n",
       "94477           56.083333  \n",
       "\n",
       "[94478 rows x 10 columns]"
      ]
     },
     "execution_count": 782,
     "metadata": {},
     "output_type": "execute_result"
    }
   ],
   "source": [
    "df"
   ]
  },
  {
   "cell_type": "code",
   "execution_count": 783,
   "id": "b3837123",
   "metadata": {},
   "outputs": [],
   "source": [
    "df =df.apply(lambda x: x.fillna(x.value_counts().index[0]))"
   ]
  },
  {
   "cell_type": "code",
   "execution_count": 784,
   "id": "67d99278",
   "metadata": {},
   "outputs": [
    {
     "data": {
      "text/plain": [
       "GOVERNORATE                    0\n",
       "Customer with orange_MONTHS    0\n",
       "CUSTOMER_GENDER                0\n",
       "COMMITMENT                     0\n",
       "COMMITMENT_FG                  0\n",
       "OF_SPEED                       0\n",
       "MIGRATION_FLAG                 0\n",
       "TARGET                         0\n",
       "median_GB                      0\n",
       "CUSTOMER_AGE_YEARS             0\n",
       "dtype: int64"
      ]
     },
     "execution_count": 784,
     "metadata": {},
     "output_type": "execute_result"
    }
   ],
   "source": [
    "df.isnull().sum()"
   ]
  },
  {
   "cell_type": "code",
   "execution_count": 785,
   "id": "a2ca4a28",
   "metadata": {},
   "outputs": [
    {
     "data": {
      "text/html": [
       "<div>\n",
       "<style scoped>\n",
       "    .dataframe tbody tr th:only-of-type {\n",
       "        vertical-align: middle;\n",
       "    }\n",
       "\n",
       "    .dataframe tbody tr th {\n",
       "        vertical-align: top;\n",
       "    }\n",
       "\n",
       "    .dataframe thead th {\n",
       "        text-align: right;\n",
       "    }\n",
       "</style>\n",
       "<table border=\"1\" class=\"dataframe\">\n",
       "  <thead>\n",
       "    <tr style=\"text-align: right;\">\n",
       "      <th></th>\n",
       "      <th>GOVERNORATE</th>\n",
       "      <th>Customer with orange_MONTHS</th>\n",
       "      <th>CUSTOMER_GENDER</th>\n",
       "      <th>COMMITMENT</th>\n",
       "      <th>COMMITMENT_FG</th>\n",
       "      <th>OF_SPEED</th>\n",
       "      <th>MIGRATION_FLAG</th>\n",
       "      <th>TARGET</th>\n",
       "      <th>median_GB</th>\n",
       "      <th>CUSTOMER_AGE_YEARS</th>\n",
       "    </tr>\n",
       "  </thead>\n",
       "  <tbody>\n",
       "    <tr>\n",
       "      <th>0</th>\n",
       "      <td>West Amman</td>\n",
       "      <td>49</td>\n",
       "      <td>M</td>\n",
       "      <td>24</td>\n",
       "      <td>1</td>\n",
       "      <td>200</td>\n",
       "      <td>y</td>\n",
       "      <td>0</td>\n",
       "      <td>562.0</td>\n",
       "      <td>47.333333</td>\n",
       "    </tr>\n",
       "    <tr>\n",
       "      <th>1</th>\n",
       "      <td>West Amman</td>\n",
       "      <td>45</td>\n",
       "      <td>M</td>\n",
       "      <td>24</td>\n",
       "      <td>0</td>\n",
       "      <td>100</td>\n",
       "      <td>y</td>\n",
       "      <td>0</td>\n",
       "      <td>160.0</td>\n",
       "      <td>61.750000</td>\n",
       "    </tr>\n",
       "    <tr>\n",
       "      <th>2</th>\n",
       "      <td>West Amman</td>\n",
       "      <td>45</td>\n",
       "      <td>M</td>\n",
       "      <td>24</td>\n",
       "      <td>1</td>\n",
       "      <td>200</td>\n",
       "      <td>y</td>\n",
       "      <td>0</td>\n",
       "      <td>299.0</td>\n",
       "      <td>44.250000</td>\n",
       "    </tr>\n",
       "    <tr>\n",
       "      <th>3</th>\n",
       "      <td>Others</td>\n",
       "      <td>44</td>\n",
       "      <td>M</td>\n",
       "      <td>24</td>\n",
       "      <td>0</td>\n",
       "      <td>200</td>\n",
       "      <td>y</td>\n",
       "      <td>0</td>\n",
       "      <td>569.0</td>\n",
       "      <td>53.833333</td>\n",
       "    </tr>\n",
       "    <tr>\n",
       "      <th>4</th>\n",
       "      <td>West Amman</td>\n",
       "      <td>42</td>\n",
       "      <td>M</td>\n",
       "      <td>12</td>\n",
       "      <td>1</td>\n",
       "      <td>400</td>\n",
       "      <td>y</td>\n",
       "      <td>0</td>\n",
       "      <td>891.0</td>\n",
       "      <td>26.000000</td>\n",
       "    </tr>\n",
       "    <tr>\n",
       "      <th>...</th>\n",
       "      <td>...</td>\n",
       "      <td>...</td>\n",
       "      <td>...</td>\n",
       "      <td>...</td>\n",
       "      <td>...</td>\n",
       "      <td>...</td>\n",
       "      <td>...</td>\n",
       "      <td>...</td>\n",
       "      <td>...</td>\n",
       "      <td>...</td>\n",
       "    </tr>\n",
       "    <tr>\n",
       "      <th>94473</th>\n",
       "      <td>Others</td>\n",
       "      <td>1</td>\n",
       "      <td>M</td>\n",
       "      <td>12</td>\n",
       "      <td>1</td>\n",
       "      <td>200</td>\n",
       "      <td>y</td>\n",
       "      <td>0</td>\n",
       "      <td>315.0</td>\n",
       "      <td>20.083333</td>\n",
       "    </tr>\n",
       "    <tr>\n",
       "      <th>94474</th>\n",
       "      <td>East Amman</td>\n",
       "      <td>18</td>\n",
       "      <td>M</td>\n",
       "      <td>24</td>\n",
       "      <td>1</td>\n",
       "      <td>200</td>\n",
       "      <td>n</td>\n",
       "      <td>0</td>\n",
       "      <td>0.0</td>\n",
       "      <td>42.166667</td>\n",
       "    </tr>\n",
       "    <tr>\n",
       "      <th>94475</th>\n",
       "      <td>West Amman</td>\n",
       "      <td>13</td>\n",
       "      <td>F</td>\n",
       "      <td>12</td>\n",
       "      <td>1</td>\n",
       "      <td>400</td>\n",
       "      <td>y</td>\n",
       "      <td>0</td>\n",
       "      <td>0.0</td>\n",
       "      <td>71.750000</td>\n",
       "    </tr>\n",
       "    <tr>\n",
       "      <th>94476</th>\n",
       "      <td>West Amman</td>\n",
       "      <td>9</td>\n",
       "      <td>M</td>\n",
       "      <td>24</td>\n",
       "      <td>1</td>\n",
       "      <td>200</td>\n",
       "      <td>n</td>\n",
       "      <td>0</td>\n",
       "      <td>0.0</td>\n",
       "      <td>27.833333</td>\n",
       "    </tr>\n",
       "    <tr>\n",
       "      <th>94477</th>\n",
       "      <td>East Amman</td>\n",
       "      <td>21</td>\n",
       "      <td>F</td>\n",
       "      <td>24</td>\n",
       "      <td>1</td>\n",
       "      <td>60</td>\n",
       "      <td>n</td>\n",
       "      <td>0</td>\n",
       "      <td>0.0</td>\n",
       "      <td>56.083333</td>\n",
       "    </tr>\n",
       "  </tbody>\n",
       "</table>\n",
       "<p>94478 rows × 10 columns</p>\n",
       "</div>"
      ],
      "text/plain": [
       "      GOVERNORATE  Customer with orange_MONTHS CUSTOMER_GENDER  COMMITMENT  \\\n",
       "0      West Amman                           49               M          24   \n",
       "1      West Amman                           45               M          24   \n",
       "2      West Amman                           45               M          24   \n",
       "3          Others                           44               M          24   \n",
       "4      West Amman                           42               M          12   \n",
       "...           ...                          ...             ...         ...   \n",
       "94473      Others                            1               M          12   \n",
       "94474  East Amman                           18               M          24   \n",
       "94475  West Amman                           13               F          12   \n",
       "94476  West Amman                            9               M          24   \n",
       "94477  East Amman                           21               F          24   \n",
       "\n",
       "       COMMITMENT_FG  OF_SPEED MIGRATION_FLAG  TARGET  median_GB  \\\n",
       "0                  1       200              y       0      562.0   \n",
       "1                  0       100              y       0      160.0   \n",
       "2                  1       200              y       0      299.0   \n",
       "3                  0       200              y       0      569.0   \n",
       "4                  1       400              y       0      891.0   \n",
       "...              ...       ...            ...     ...        ...   \n",
       "94473              1       200              y       0      315.0   \n",
       "94474              1       200              n       0        0.0   \n",
       "94475              1       400              y       0        0.0   \n",
       "94476              1       200              n       0        0.0   \n",
       "94477              1        60              n       0        0.0   \n",
       "\n",
       "       CUSTOMER_AGE_YEARS  \n",
       "0               47.333333  \n",
       "1               61.750000  \n",
       "2               44.250000  \n",
       "3               53.833333  \n",
       "4               26.000000  \n",
       "...                   ...  \n",
       "94473           20.083333  \n",
       "94474           42.166667  \n",
       "94475           71.750000  \n",
       "94476           27.833333  \n",
       "94477           56.083333  \n",
       "\n",
       "[94478 rows x 10 columns]"
      ]
     },
     "execution_count": 785,
     "metadata": {},
     "output_type": "execute_result"
    }
   ],
   "source": [
    "df"
   ]
  },
  {
   "cell_type": "code",
   "execution_count": 786,
   "id": "9ceb5f3e",
   "metadata": {},
   "outputs": [],
   "source": [
    "def median_GB(df):\n",
    "     # Round the 'median_GB' column and convert to integers\n",
    "    df['median_GB'] = df['median_GB'].round().astype(int)\n",
    "    return df\n",
    "df=median_GB(df)"
   ]
  },
  {
   "cell_type": "code",
   "execution_count": 787,
   "id": "8ced14bc",
   "metadata": {},
   "outputs": [],
   "source": [
    "def CUSTOMER_AGE_YEARS(df):\n",
    "     # Round the 'CUSTOMER_AGE_YEARS' column and convert to integers\n",
    "    df['CUSTOMER_AGE_YEARS'] = df['CUSTOMER_AGE_YEARS'].round().astype(int)\n",
    "    return df\n",
    "df=CUSTOMER_AGE_YEARS(df)"
   ]
  },
  {
   "cell_type": "code",
   "execution_count": 788,
   "id": "ecb2c2e8",
   "metadata": {},
   "outputs": [
    {
     "data": {
      "text/plain": [
       "0        562\n",
       "1        160\n",
       "2        299\n",
       "3        569\n",
       "4        891\n",
       "        ... \n",
       "94473    315\n",
       "94474      0\n",
       "94475      0\n",
       "94476      0\n",
       "94477      0\n",
       "Name: median_GB, Length: 94478, dtype: int32"
      ]
     },
     "execution_count": 788,
     "metadata": {},
     "output_type": "execute_result"
    }
   ],
   "source": [
    "df.median_GB"
   ]
  },
  {
   "cell_type": "code",
   "execution_count": 789,
   "id": "9ee69293",
   "metadata": {},
   "outputs": [],
   "source": [
    "def Encoding(df):\n",
    " label_encoder = preprocessing.LabelEncoder()\n",
    " df['GOVERNORATE']= label_encoder.fit_transform(df['GOVERNORATE'])\n",
    " df['CUSTOMER_GENDER']= label_encoder.fit_transform(df['CUSTOMER_GENDER'])\n",
    " df['MIGRATION_FLAG']= label_encoder.fit_transform(df['MIGRATION_FLAG'])\n",
    " columns_to_scale = ['GOVERNORATE','median_GB', 'Customer with orange_MONTHS', 'CUSTOMER_AGE_YEARS','CUSTOMER_GENDER', 'COMMITMENT', 'COMMITMENT_FG', 'OF_SPEED','MIGRATION_FLAG', 'TARGET']\n",
    " scaler = MinMaxScaler()\n",
    " df[columns_to_scale] = scaler.fit_transform(df[columns_to_scale])\n",
    " #Separate the features (X) and target variable (y)\n",
    " X = df.drop('TARGET', axis=1)\n",
    " y = df['TARGET']\n",
    " return(df)\n",
    "df=Encoding(df)"
   ]
  },
  {
   "cell_type": "code",
   "execution_count": 790,
   "id": "3acd9018",
   "metadata": {},
   "outputs": [],
   "source": [
    "# Define function to remove outliers\n",
    "def remove_outliers(df):\n",
    "    # List of variables to check for outliers\n",
    "    variables = ['GOVERNORATE','Customer with orange_MONTHS', 'CUSTOMER_GENDER', 'COMMITMENT','COMMITMENT_FG',  \n",
    "                 'OF_SPEED', 'MIGRATION_FLAG', 'TARGET', 'median_GB','CUSTOMER_AGE_YEARS']\n",
    "    # Iterate over the variables and remove outliers\n",
    "    for variable in variables:\n",
    "        df = df[np.abs(df[variable]-df[variable].mean()) <= (3*df[variable].std())]\n",
    "        \n",
    "    return df\n",
    "df=remove_outliers(df)"
   ]
  },
  {
   "cell_type": "code",
   "execution_count": 791,
   "id": "737518a6",
   "metadata": {},
   "outputs": [],
   "source": [
    "def imbalance (df):\n",
    " # Define oversampler\n",
    " oversample = SMOTE()\n",
    "\n",
    " # Apply oversampling on the data\n",
    " X_oversampled, y_oversampled = oversample.fit_resample(X, y)\n",
    " return(df)"
   ]
  },
  {
   "cell_type": "code",
   "execution_count": 792,
   "id": "b02c7d8a",
   "metadata": {},
   "outputs": [],
   "source": [
    "X = df[['GOVERNORATE', 'Customer with orange_MONTHS', 'CUSTOMER_GENDER', 'COMMITMENT', 'COMMITMENT_FG', 'OF_SPEED', 'MIGRATION_FLAG', 'median_GB', 'CUSTOMER_AGE_YEARS']]\n",
    "y = df['TARGET']\n",
    "X_train, X_test, y_train, y_test = train_test_split(X, y, test_size=0.15, random_state=42)"
   ]
  },
  {
   "cell_type": "code",
   "execution_count": 793,
   "id": "486dc0ac",
   "metadata": {},
   "outputs": [],
   "source": [
    "df.to_csv('ORANGE_FIBER_FIXED.csv')"
   ]
  },
  {
   "cell_type": "code",
   "execution_count": 794,
   "id": "2720d48d",
   "metadata": {},
   "outputs": [],
   "source": [
    "## model trai 1 (Linear regression)"
   ]
  },
  {
   "cell_type": "code",
   "execution_count": 795,
   "id": "0a5ee9ea",
   "metadata": {},
   "outputs": [],
   "source": [
    "#DEVELOPMENT"
   ]
  },
  {
   "cell_type": "code",
   "execution_count": 796,
   "id": "3695f9d4",
   "metadata": {},
   "outputs": [],
   "source": [
    "# Create a Linear regressor\n",
    "lm = LinearRegression()\n",
    "\n",
    "# Train the model using the training data\n",
    "lm.fit(X_train, y_train)\n",
    "\n",
    "# Model prediction on train data\n",
    "y_pred = lm.predict(X_train)\n",
    "# Predicting Test data with the model\n",
    "y_test_pred = lm.predict(X_test)\n",
    "# Model metrics\n",
    "acc_lm = metrics.r2_score(y_test, y_test_pred)\n",
    "RMSE1T=np.sqrt(metrics.mean_squared_error(y_test, y_test_pred))"
   ]
  },
  {
   "cell_type": "code",
   "execution_count": 797,
   "id": "226957a5",
   "metadata": {},
   "outputs": [],
   "source": [
    "#EVALUATION"
   ]
  },
  {
   "cell_type": "code",
   "execution_count": 798,
   "id": "45204428",
   "metadata": {},
   "outputs": [],
   "source": [
    "def summary_statistics(model, X_train, y_train, X_test, y_test):\n",
    "\n",
    "    print(f\"Train set score: {model.score(X_train, y_train)}\")\n",
    "    print(f\"Test set score: {model.score(X_test, y_test)}\")\n",
    "    print(f\"Adjusted R^2: {1 - (1 - metrics.r2_score(y_train, y_pred)) * (len(y_train) - 1) / (len(y_train) - X_train.shape[1] - 1)}\")"
   ]
  },
  {
   "cell_type": "code",
   "execution_count": 799,
   "id": "75c17688",
   "metadata": {},
   "outputs": [
    {
     "name": "stdout",
     "output_type": "stream",
     "text": [
      "Train set score: 1.0\n",
      "Test set score: 1.0\n",
      "Adjusted R^2: 1.0\n",
      "R^2: 1.0\n",
      "RMSE: 0.0\n"
     ]
    }
   ],
   "source": [
    "summary_statistics(lm, X_train, y_train, X_test, y_test)\n",
    "print('R^2:', acc_lm)\n",
    "print('RMSE:',RMSE1T)"
   ]
  },
  {
   "cell_type": "code",
   "execution_count": 800,
   "id": "8e6c8fcb",
   "metadata": {},
   "outputs": [],
   "source": [
    "##model 2 (Decision Tree Regressor)"
   ]
  },
  {
   "cell_type": "code",
   "execution_count": 801,
   "id": "d0e31374",
   "metadata": {},
   "outputs": [],
   "source": [
    "#Development"
   ]
  },
  {
   "cell_type": "code",
   "execution_count": 802,
   "id": "a973f153",
   "metadata": {},
   "outputs": [],
   "source": [
    "# Create a Decision Tree regressor\n",
    "clf = tree.DecisionTreeRegressor(min_samples_split=13, max_depth=10, min_samples_leaf=10, max_leaf_nodes=320)\n",
    "\n",
    "# Train the model using the training data\n",
    "clf.fit(X_train, y_train)\n",
    "\n",
    "# Predict the test data\n",
    "y_pred = clf.predict(X_train)\n",
    "# Predicting Test data with the model\n",
    "y_test_pred = clf.predict(X_test)\n",
    "# Model Metrics\n",
    "acc_clf = metrics.r2_score(y_test, y_test_pred)\n",
    "RMSE2T = np.sqrt(metrics.mean_squared_error(y_train, y_pred))"
   ]
  },
  {
   "cell_type": "code",
   "execution_count": 803,
   "id": "308a21fc",
   "metadata": {},
   "outputs": [],
   "source": [
    "#Evaluation"
   ]
  },
  {
   "cell_type": "code",
   "execution_count": 804,
   "id": "a0feef2b",
   "metadata": {},
   "outputs": [
    {
     "name": "stdout",
     "output_type": "stream",
     "text": [
      "Train set score: 1.0\n",
      "Test set score: 1.0\n",
      "Adjusted R^2: 1.0\n",
      "R^2: 1.0\n",
      "RMSE: 0.0\n"
     ]
    }
   ],
   "source": [
    "summary_statistics(clf, X_train, y_train, X_test, y_test)\n",
    "print('R^2:', acc_clf)\n",
    "print('RMSE:',RMSE2T)"
   ]
  },
  {
   "cell_type": "code",
   "execution_count": 805,
   "id": "a64c2d60",
   "metadata": {},
   "outputs": [],
   "source": [
    "##model 3 (Random Forest model)"
   ]
  },
  {
   "cell_type": "code",
   "execution_count": 806,
   "id": "38f51305",
   "metadata": {},
   "outputs": [],
   "source": [
    "#Development"
   ]
  },
  {
   "cell_type": "code",
   "execution_count": 807,
   "id": "9e6a9dbb",
   "metadata": {},
   "outputs": [],
   "source": [
    "# Create a Random Forest Regressor\n",
    "reg = RandomForestRegressor()\n",
    "\n",
    "# Train the model using the training sets \n",
    "reg.fit(X_train, y_train)\n",
    "\n",
    "# Fit the model to the training data with different hyperparameters\n",
    "reg = RandomForestRegressor(n_estimators= 110, min_samples_split= 13, max_depth= 9) \n",
    "reg.fit(X_train, y_train)\n",
    "\n",
    "# Model prediction on train data\n",
    "y_pred = reg.predict(X_train)\n",
    "# Predicting Test data with the model\n",
    "y_test_pred = reg.predict(X_test)\n",
    "# Model metrics\n",
    "acc_reg = metrics.r2_score(y_test, y_test_pred)\n",
    "RMSE3T = np.sqrt(metrics.mean_squared_error(y_train, y_pred))"
   ]
  },
  {
   "cell_type": "code",
   "execution_count": 808,
   "id": "cbd0c512",
   "metadata": {},
   "outputs": [],
   "source": [
    "#Evaluation"
   ]
  },
  {
   "cell_type": "code",
   "execution_count": 809,
   "id": "7cb66bb3",
   "metadata": {},
   "outputs": [
    {
     "name": "stdout",
     "output_type": "stream",
     "text": [
      "Train set score: 1.0\n",
      "Test set score: 1.0\n",
      "Adjusted R^2: 1.0\n",
      "R^2: 1.0\n",
      "RMSE: 0.0\n"
     ]
    }
   ],
   "source": [
    "summary_statistics(reg, X_train, y_train, X_test, y_test)\n",
    "print('R^2:', acc_reg)\n",
    "print('RMSE:',RMSE3T)"
   ]
  },
  {
   "cell_type": "code",
   "execution_count": null,
   "id": "eec5fe9a",
   "metadata": {},
   "outputs": [],
   "source": []
  },
  {
   "cell_type": "code",
   "execution_count": 810,
   "id": "57249440",
   "metadata": {},
   "outputs": [],
   "source": [
    "# Save model to a pickle file\n",
    "rf = RandomForestRegressor(n_estimators=100, max_depth=10, random_state=42)\n",
    "rf.fit(X, y)\n",
    "\n",
    "# Save the trained model using pickle\n",
    "with open(\"Orange_Fiber.pkl\", \"wb\") as f:\n",
    "    pickle.dump(rf, f)"
   ]
  },
  {
   "cell_type": "code",
   "execution_count": 811,
   "id": "e25fe8d7",
   "metadata": {},
   "outputs": [],
   "source": [
    "##SUMMARY"
   ]
  },
  {
   "cell_type": "code",
   "execution_count": 812,
   "id": "fd770183",
   "metadata": {},
   "outputs": [
    {
     "data": {
      "text/html": [
       "<div>\n",
       "<style scoped>\n",
       "    .dataframe tbody tr th:only-of-type {\n",
       "        vertical-align: middle;\n",
       "    }\n",
       "\n",
       "    .dataframe tbody tr th {\n",
       "        vertical-align: top;\n",
       "    }\n",
       "\n",
       "    .dataframe thead th {\n",
       "        text-align: right;\n",
       "    }\n",
       "</style>\n",
       "<table border=\"1\" class=\"dataframe\">\n",
       "  <thead>\n",
       "    <tr style=\"text-align: right;\">\n",
       "      <th></th>\n",
       "      <th>Model</th>\n",
       "      <th>RMSE</th>\n",
       "      <th>R2 Score</th>\n",
       "    </tr>\n",
       "  </thead>\n",
       "  <tbody>\n",
       "    <tr>\n",
       "      <th>0</th>\n",
       "      <td>Linear Regression</td>\n",
       "      <td>0.0</td>\n",
       "      <td>100.0</td>\n",
       "    </tr>\n",
       "    <tr>\n",
       "      <th>1</th>\n",
       "      <td>Decision Tree</td>\n",
       "      <td>0.0</td>\n",
       "      <td>100.0</td>\n",
       "    </tr>\n",
       "    <tr>\n",
       "      <th>2</th>\n",
       "      <td>Random Forest</td>\n",
       "      <td>0.0</td>\n",
       "      <td>100.0</td>\n",
       "    </tr>\n",
       "  </tbody>\n",
       "</table>\n",
       "</div>"
      ],
      "text/plain": [
       "               Model  RMSE  R2 Score\n",
       "0  Linear Regression   0.0     100.0\n",
       "1      Decision Tree   0.0     100.0\n",
       "2      Random Forest   0.0     100.0"
      ]
     },
     "execution_count": 812,
     "metadata": {},
     "output_type": "execute_result"
    }
   ],
   "source": [
    "models = pd.DataFrame({\n",
    "    'Model': ['Linear Regression', 'Decision Tree' ,'Random Forest'], 'RMSE' : [RMSE1T,RMSE2T,RMSE3T], \n",
    "    'R2 Score': [acc_lm*100, acc_clf*100,acc_reg*100]})\n",
    "models.sort_values(by='R2 Score', ascending=False)"
   ]
  },
  {
   "cell_type": "code",
   "execution_count": 813,
   "id": "dd81ce24",
   "metadata": {},
   "outputs": [],
   "source": [
    "##we will use RandomForest"
   ]
  },
  {
   "cell_type": "code",
   "execution_count": null,
   "id": "8491299f",
   "metadata": {},
   "outputs": [],
   "source": []
  }
 ],
 "metadata": {
  "kernelspec": {
   "display_name": "Python 3 (ipykernel)",
   "language": "python",
   "name": "python3"
  },
  "language_info": {
   "codemirror_mode": {
    "name": "ipython",
    "version": 3
   },
   "file_extension": ".py",
   "mimetype": "text/x-python",
   "name": "python",
   "nbconvert_exporter": "python",
   "pygments_lexer": "ipython3",
   "version": "3.9.13"
  }
 },
 "nbformat": 4,
 "nbformat_minor": 5
}
